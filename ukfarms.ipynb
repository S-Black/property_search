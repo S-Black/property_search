{
 "cells": [
  {
   "cell_type": "code",
   "execution_count": null,
   "metadata": {},
   "outputs": [],
   "source": [
    "# import webdriver\n",
    "import time\n",
    "from bs4 import BeautifulSoup\n",
    "from selenium import webdriver\n",
    "from selenium.webdriver.common.by import By\n",
    "from selenium.webdriver.support.ui import Select\n",
    "from webdriver_manager.chrome import ChromeDriverManager\n",
    "from selenium.webdriver.chrome.service import Service\n",
    "from selenium.webdriver.common.keys import Keys\n",
    "\n",
    "def find_properties(region: str, maxprice: str, maxsize: str, category: str) -> print:\n",
    "    \"\"\"\n",
    "    Find properties in a specific region with some selected parameters.\n",
    "\n",
    "    Args:\n",
    "        region: West Midlands, North West, North East etc.\n",
    "        maxprice: £50,000, £100,000, £250,000, £500,000 etc\n",
    "        maxsize: 10 acres, 20 acres, 50 acres etc\n",
    "        category: Farms and estates, Land, Country houses, Woodland etc\n",
    "\n",
    "    Returns:\n",
    "        Pring statment\n",
    "    \"\"\"\n",
    "\n",
    "    driver = webdriver.Chrome(service=Service(ChromeDriverManager().install()))\n",
    "\n",
    "    driver.get(\"https://www.uklandandfarms.co.uk/\")\n",
    "    driver.implicitly_wait(0.5)\n",
    "\n",
    "    #https://www.browserstack.com/guide/python-selenium-select-dropdown\n",
    "    input_list = [region, maxprice, maxsize, category]\n",
    "    htlm_dropdowns = [\"ctl00$ContentPlaceHolder1$PropertySearch1$dropRegion\", \"Maxprice\", \"MaxLandSize\", \"ctl00$ContentPlaceHolder1$PropertySearch1$dropPropertyType\"]\n",
    "    for selection, name in zip(input_list, htlm_dropdowns):\n",
    "        dropdown = driver.find_element(By.NAME, name)\n",
    "        # Create a new instance of the Select class\n",
    "        select = Select(dropdown)\n",
    "        # Select an option from the dropdown menu by visible text\n",
    "        select.select_by_visible_text(selection)\n",
    "\n",
    "    #https://stackoverflow.com/questions/21350605/python-selenium-click-on-button\n",
    "    button = driver.find_element(By.ID, \"btnSearch\")\n",
    "    button.send_keys(Keys.RETURN) \n",
    "\n",
    "    #waiting: https://shantoroy.com/webscrapping/click-button-show-more-on-medium-dot-com-via-selenium/\n",
    "    # Wait for the page to load\n",
    "    time.sleep(5)  # Adjust the time as needed\n",
    "\n",
    "    # Get the HTML content of the page using the page_source attribute\n",
    "    html = driver.page_source\n",
    "\n",
    "    # Create a new Beautiful Soup object and pass the HTML content to it\n",
    "    soup = BeautifulSoup(html, 'html.parser')\n",
    "\n",
    "    # Now you can use Beautiful Soup to parse and extract data from the page\n",
    "    properties = soup.find(\"div\", {\"id\": \"propertyList\"})  # Replace with the desired HTML element\n",
    "    #properties = soup.select('div#propertyList')\n",
    "\n",
    "    for property in properties.find_all('li'): \n",
    "        print(property.find('h3').text)#.find_all('a', href=True))#[0].get_text())\n",
    "        link_tag = property.find('a')\n",
    "        print(\"www.uklandandfarms.co.uk\"+link_tag.get('href'))\n",
    "\n",
    "    # Close the webdriver\n",
    "    driver.quit()\n"
   ]
  },
  {
   "cell_type": "code",
   "execution_count": null,
   "metadata": {},
   "outputs": [],
   "source": [
    "find_properties('West Midlands', '£50,000', '10 acres', 'Land')"
   ]
  }
 ],
 "metadata": {
  "kernelspec": {
   "display_name": "default",
   "language": "python",
   "name": "python3"
  },
  "language_info": {
   "codemirror_mode": {
    "name": "ipython",
    "version": 3
   },
   "file_extension": ".py",
   "mimetype": "text/x-python",
   "name": "python",
   "nbconvert_exporter": "python",
   "pygments_lexer": "ipython3",
   "version": "3.12.3"
  }
 },
 "nbformat": 4,
 "nbformat_minor": 2
}
