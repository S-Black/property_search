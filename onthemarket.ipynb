{
 "cells": [
  {
   "cell_type": "code",
   "execution_count": null,
   "metadata": {},
   "outputs": [],
   "source": [
    "#Functions\n",
    "import requests\n",
    "import random\n",
    "from bs4 import BeautifulSoup\n",
    "\n",
    "user_agents = [\n",
    "    \"Mozilla/5.0 (Windows NT 10.0; Win64; x64) AppleWebKit/537.36 (KHTML, like Gecko) Chrome/58.0.3029.110 Safari/537.3\",\n",
    "    \"Mozilla/5.0 (Macintosh; Intel Mac OS X 10_12_1) AppleWebKit/537.36 (KHTML, like Gecko) Chrome/47.0.2526.111 Safari/602.1.50\",\n",
    "    \"Mozilla/5.0 (X11; CrOS x86_64 8172.45.0) AppleWebKit/537.36 (KHTML, like Gecko) Chrome/41.0.2272.96 Safari/537.36\"\n",
    "]\n",
    "\n",
    "def get_random_user_agent():\n",
    "    return random.choice(user_agents)\n",
    "\n",
    "def scrape_website(url):\n",
    "    user_agent = get_random_user_agent()\n",
    "    headers = {\"User-Agent\": user_agent}\n",
    "    response = requests.get(url, headers=headers)\n",
    "    return response.content"
   ]
  },
  {
   "cell_type": "code",
   "execution_count": null,
   "metadata": {},
   "outputs": [],
   "source": [
    "#change the maximum price\n",
    "maxprice = 500000\n",
    "\n",
    "url=f\"https://www.onthemarket.com/for-sale/smallholding/england/?max-price={maxprice}\"\n",
    "\n",
    "scrape_website(url)\n",
    "\n",
    "# Parsing the HTML \n",
    "soup = BeautifulSoup(scrape_website(url), 'html.parser') \n",
    "\n",
    "properties = soup.select(\"li.otm-PropertyCard\")\n",
    "\n",
    "#print results and link to properties\n",
    "try:\n",
    "    for property in properties:\n",
    "        price = property.select(\".otm-Price\")[0].get_text()\n",
    "        print(price)\n",
    "        print(property.find(\"span\", class_= 'address').find_all('a')[0].get_text())\n",
    "        for a in property.find(\"span\",class_=\"address\").find_all('a', href=True):\n",
    "            print(\"www.onthemarket.com\"+a['href'])\n",
    "        print(\"\")\n",
    "except:\n",
    "    pass"
   ]
  }
 ],
 "metadata": {
  "kernelspec": {
   "display_name": "default",
   "language": "python",
   "name": "python3"
  },
  "language_info": {
   "codemirror_mode": {
    "name": "ipython",
    "version": 3
   },
   "file_extension": ".py",
   "mimetype": "text/x-python",
   "name": "python",
   "nbconvert_exporter": "python",
   "pygments_lexer": "ipython3",
   "version": "3.12.3"
  }
 },
 "nbformat": 4,
 "nbformat_minor": 2
}
